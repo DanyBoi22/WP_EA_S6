{
 "cells": [
  {
   "cell_type": "code",
   "execution_count": 1,
   "id": "ba578676-9c10-4c06-b9bd-e682e5c44da8",
   "metadata": {},
   "outputs": [],
   "source": [
    "import numpy as np\n",
    "from scipy.optimize import differential_evolution"
   ]
  },
  {
   "cell_type": "code",
   "execution_count": 20,
   "id": "1f6dd5a3-edd4-4780-a8a4-9d416fac4760",
   "metadata": {},
   "outputs": [
    {
     "name": "stdout",
     "output_type": "stream",
     "text": [
      "Function:  randtobest1exp ; Mutation factor:  0.8 ; Recombination factor:  0.4\n",
      "Minimum value found:  8.111986193881648e-09\n",
      "Minimum location found:  [ 3.38455720e-10 -3.91972208e-09  6.14971214e-10 -3.38539394e-09\n",
      "  1.02427293e-09 -4.06237814e-09 -1.81664291e-09 -2.81882240e-09\n",
      "  1.11480767e-09 -9.14929842e-10 -1.71971624e-09  7.89361366e-10\n",
      "  5.99226041e-10 -1.43397483e-09  1.37755706e-10 -1.27986277e-09\n",
      " -8.80500011e-11 -3.96050382e-09  6.37206540e-10  5.54369763e-10]\n",
      "Function:  rand2exp ; Mutation factor:  0.8 ; Recombination factor:  0.4\n",
      "Minimum value found:  1.8943879798172247e-08\n",
      "Minimum location found:  [-5.17393931e-09  7.92435207e-10 -5.58494602e-09 -4.55729380e-09\n",
      " -4.05112592e-09 -5.73751864e-09 -4.79791594e-09 -4.76050439e-09\n",
      " -5.32094194e-09 -2.04961847e-09 -4.30450176e-09 -6.27664583e-09\n",
      " -5.32262149e-09 -6.33296600e-09 -4.02584034e-09 -4.00189795e-09\n",
      " -6.01731880e-09 -5.17950704e-09 -2.42338886e-09 -3.76973323e-09]\n"
     ]
    }
   ],
   "source": [
    "def ackley(x):\n",
    "    n = len(x)\n",
    "    sum1 = np.sum(x**2)\n",
    "    sum2 = np.sum(np.cos(2*np.pi*x))\n",
    "    term1 = -20*np.exp(-0.2*np.sqrt(sum1/n))\n",
    "    term2 = -np.exp(sum2/n)\n",
    "    y = term1 + term2 + 20 + np.exp(1)\n",
    "    return y\n",
    "\n",
    "bounds = [(-32.768, 32.768)] * 20  # bounds for each dimension\n",
    "\n",
    "def do(name, mut, rec):\n",
    "    result = differential_evolution(ackley, bounds, strategy=name , maxiter=1000, mutation=mut, recombination=rec, disp=False, popsize=4) #tol=1e-7, atol=1e-7,\n",
    "    print(\"Function: \", name, \"; Mutation factor: \", mut, \"; Recombination factor: \", rec)\n",
    "    print(\"Minimum value found: \", result.fun)\n",
    "    print(\"Minimum location found: \", result.x)\n",
    "\n",
    "\n",
    "do(\"randtobest1exp\", 0.8, 0.4)\n",
    "do(\"rand2exp\", 0.8, 0.4)"
   ]
  },
  {
   "cell_type": "code",
   "execution_count": null,
   "id": "d7efbbbb-ff5e-4995-b963-c7bf1b736f0b",
   "metadata": {},
   "outputs": [],
   "source": []
  }
 ],
 "metadata": {
  "kernelspec": {
   "display_name": "Python 3 (ipykernel)",
   "language": "python",
   "name": "python3"
  },
  "language_info": {
   "codemirror_mode": {
    "name": "ipython",
    "version": 3
   },
   "file_extension": ".py",
   "mimetype": "text/x-python",
   "name": "python",
   "nbconvert_exporter": "python",
   "pygments_lexer": "ipython3",
   "version": "3.11.4"
  }
 },
 "nbformat": 4,
 "nbformat_minor": 5
}
