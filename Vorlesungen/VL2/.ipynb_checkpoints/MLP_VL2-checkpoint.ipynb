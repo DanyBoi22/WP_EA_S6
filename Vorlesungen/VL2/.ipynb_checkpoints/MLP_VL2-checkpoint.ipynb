{
 "cells": [
  {
   "cell_type": "code",
   "execution_count": 1,
   "id": "24edcc12-c725-4c53-bfc5-b844b2ecd1e3",
   "metadata": {},
   "outputs": [],
   "source": [
    "import numpy as np\n",
    "from sklearn.datasets import load_iris\n",
    "from sklearn.preprocessing import OneHotEncoder\n",
    "from sklearn.model_selection import train_test_split\n",
    "from scipy.optimize import differential_evolution"
   ]
  },
  {
   "cell_type": "code",
   "execution_count": 2,
   "id": "932154b4-0453-4d64-91c5-fb24953e9f52",
   "metadata": {},
   "outputs": [],
   "source": [
    "class MLP:\n",
    "    def __init__(self, input_size, hidden_size, output_size):\n",
    "        self.input_size = input_size\n",
    "        self.hidden_size = hidden_size\n",
    "        self.output_size = output_size\n",
    "        \n",
    "        # initialize weights\n",
    "        self.weights_input_hidden = np.random.rand(self.input_size, self.hidden_size)\n",
    "        self.weights_hidden_output = np.random.rand(self.hidden_size, self.output_size)\n",
    "        \n",
    "        # initialize biases\n",
    "        self.bias_hidden = np.random.rand(self.hidden_size)\n",
    "        self.bias_output = np.random.rand(self.output_size)\n",
    "    \n",
    "    def forward(self, X):\n",
    "        # input layer to hidden layer\n",
    "        hidden_input = np.dot(X, self.weights_input_hidden) + self.bias_hidden\n",
    "        hidden_output = self.sigmoid(hidden_input)\n",
    "        \n",
    "        # hidden layer to output layer\n",
    "        output_input = np.dot(hidden_output, self.weights_hidden_output) + self.bias_output\n",
    "        output = self.sigmoid(output_input)\n",
    "        \n",
    "        return output\n",
    "    \n",
    "    def sigmoid(self, X):\n",
    "        return 1 / (1 + np.exp(-X))\n",
    "    \n",
    "    def predict(self, X):\n",
    "        return np.argmax(self.forward(X), axis=1)\n",
    "\n",
    "def loss_function(weights, X, y, input_size, hidden_size, output_size):\n",
    "    # Entpacken der Gewichte und Schwellenwerte\n",
    "\n",
    "    \n",
    "    # MLP initialisieren\n",
    "    mlp = MLP(input_size, hidden_size, output_size)\n",
    "\n",
    "    \n",
    "    # Vorhersage für die Eingabe X berechnen\n",
    "    output = mlp.forward(X)\n",
    "    \n",
    "    # Fehler berechnen\n",
    "    error = y - output\n",
    "    \n",
    "    # Loss berechnen\n",
    "    loss = np.mean(error**2)\n",
    "    \n",
    "    return loss"
   ]
  },
  {
   "cell_type": "code",
   "execution_count": 3,
   "id": "9a5b867d-9527-4d7a-8ebb-f8f7ec2cef4b",
   "metadata": {},
   "outputs": [
    {
     "ename": "ModuleNotFoundError",
     "evalue": "No module named 'ucimlrepo'",
     "output_type": "error",
     "traceback": [
      "\u001b[1;31m---------------------------------------------------------------------------\u001b[0m",
      "\u001b[1;31mModuleNotFoundError\u001b[0m                       Traceback (most recent call last)",
      "Cell \u001b[1;32mIn[3], line 1\u001b[0m\n\u001b[1;32m----> 1\u001b[0m \u001b[38;5;28;01mfrom\u001b[39;00m \u001b[38;5;21;01mucimlrepo\u001b[39;00m \u001b[38;5;28;01mimport\u001b[39;00m fetch_ucirepo \n\u001b[0;32m      3\u001b[0m \u001b[38;5;66;03m# fetch dataset \u001b[39;00m\n\u001b[0;32m      4\u001b[0m iris \u001b[38;5;241m=\u001b[39m fetch_ucirepo(\u001b[38;5;28mid\u001b[39m\u001b[38;5;241m=\u001b[39m\u001b[38;5;241m53\u001b[39m) \n",
      "\u001b[1;31mModuleNotFoundError\u001b[0m: No module named 'ucimlrepo'"
     ]
    }
   ],
   "source": [
    "from ucimlrepo import fetch_ucirepo \n",
    "  \n",
    "# fetch dataset \n",
    "iris = fetch_ucirepo(id=53) \n",
    "  \n",
    "# data (as pandas dataframes) \n",
    "X = iris.data.features \n",
    "y = iris.data.targets \n",
    "  \n",
    "# metadata \n",
    "print(iris.metadata) \n",
    "  \n",
    "# variable information \n",
    "print(iris.variables) \n",
    "\n",
    "# Daten laden\n",
    "iris = load_iris()\n",
    "X = iris.data\n",
    "y = iris.target\n",
    "\n",
    "# One-hot encoding der Ausgabe\n",
    "\n",
    "\n",
    "# Aufteilung in Trainings- und Testdaten\n",
    "X_train, X_test, y_train, y_test = train_test_split(X, y, test_size=0.2)\n",
    "\n",
    "# Trainingsfunktion mit Differential Evolution\n",
    "\n",
    "\n",
    "result = differential_evolution(loss_function, ...)\n",
    "\n",
    "# Ausgabe der Ergebnisse\n",
    "print(\"Optimale Gewichte und Schwellenwerte:\", result.x)\n",
    "print(\"Loss:\", result.fun)\n",
    "\n",
    "# MLP-Modell mit den optimalen Gewichten und Schwellenwerten initialisieren\n",
    "\n",
    "\n",
    "# Vorhersage auf den Testdaten durchführen\n",
    "y_pred = mlp.predict(X_test)\n",
    "print(\"Accuracy:\", np.mean(y_pred == np.argmax(y_test, axis=1)))"
   ]
  }
 ],
 "metadata": {
  "kernelspec": {
   "display_name": "Python 3 (ipykernel)",
   "language": "python",
   "name": "python3"
  },
  "language_info": {
   "codemirror_mode": {
    "name": "ipython",
    "version": 3
   },
   "file_extension": ".py",
   "mimetype": "text/x-python",
   "name": "python",
   "nbconvert_exporter": "python",
   "pygments_lexer": "ipython3",
   "version": "3.11.4"
  }
 },
 "nbformat": 4,
 "nbformat_minor": 5
}
